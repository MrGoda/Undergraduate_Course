{
 "cells": [
  {
   "cell_type": "code",
   "execution_count": 1,
   "id": "f9be3868",
   "metadata": {},
   "outputs": [],
   "source": [
    "# Import packages\n",
    "import pandas as pd\n",
    "import numpy as np"
   ]
  },
  {
   "cell_type": "code",
   "execution_count": 3,
   "id": "3a00b9a6",
   "metadata": {},
   "outputs": [],
   "source": [
    "# Data Acquisition\n",
    "COVID19_raw = pd.read_csv('Conditions_Contributing_to_COVID-19_Deaths__by_State_and_Age__Provisional_2020-2021.csv')\n",
    "COVID19_matrix = COVID19_raw[['Start Date', 'Group', 'Year', 'Month', 'State', \n",
    "                                'Condition Group', 'Condition', 'Age Group', 'COVID-19 Deaths']]\n",
    "COVID19_matrix = COVID19_matrix[COVID19_matrix['Group'] == 'By Total']\n",
    "COVID19_matrix = COVID19_matrix[COVID19_matrix['State'] == 'United States']"
   ]
  },
  {
   "cell_type": "code",
   "execution_count": 4,
   "id": "c9d9a6ca",
   "metadata": {},
   "outputs": [
    {
     "name": "stdout",
     "output_type": "stream",
     "text": [
      "[[0.00000e+00 1.82800e+03 5.67100e+03 ... 1.82526e+05 5.08000e+02\n",
      "  6.29283e+05]\n",
      " [1.82800e+03 0.00000e+00 3.84300e+03 ... 1.80698e+05 2.33600e+03\n",
      "  6.27455e+05]\n",
      " [5.67100e+03 3.84300e+03 0.00000e+00 ... 1.76855e+05 6.17900e+03\n",
      "  6.23612e+05]\n",
      " ...\n",
      " [1.82526e+05 1.80698e+05 1.76855e+05 ... 0.00000e+00 1.83034e+05\n",
      "  4.46757e+05]\n",
      " [5.08000e+02 2.33600e+03 6.17900e+03 ... 1.83034e+05 0.00000e+00\n",
      "  6.29791e+05]\n",
      " [6.29283e+05 6.27455e+05 6.23612e+05 ... 4.46757e+05 6.29791e+05\n",
      "  0.00000e+00]]\n"
     ]
    }
   ],
   "source": [
    "n = len(COVID19_matrix)\n",
    "dis = np.empty((n, n), dtype = float)\n",
    "for i in range(n):\n",
    "    for j in range(n):\n",
    "        dis[i, j] = abs(COVID19_matrix.loc[i][['COVID-19 Deaths']] - COVID19_matrix.loc[j][['COVID-19 Deaths']])\n",
    "        \n",
    "print(dis)"
   ]
  },
  {
   "cell_type": "code",
   "execution_count": 8,
   "id": "d85136e6",
   "metadata": {},
   "outputs": [],
   "source": [
    "pd.DataFrame(dis).to_csv(\"dissimilar.csv\")"
   ]
  }
 ],
 "metadata": {
  "kernelspec": {
   "display_name": "Python 3",
   "language": "python",
   "name": "python3"
  },
  "language_info": {
   "codemirror_mode": {
    "name": "ipython",
    "version": 3
   },
   "file_extension": ".py",
   "mimetype": "text/x-python",
   "name": "python",
   "nbconvert_exporter": "python",
   "pygments_lexer": "ipython3",
   "version": "3.8.8"
  }
 },
 "nbformat": 4,
 "nbformat_minor": 5
}
