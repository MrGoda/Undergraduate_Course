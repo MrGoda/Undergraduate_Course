{
 "cells": [
  {
   "cell_type": "code",
   "execution_count": 2,
   "id": "cb921574",
   "metadata": {
    "scrolled": true
   },
   "outputs": [
    {
     "name": "stdout",
     "output_type": "stream",
     "text": [
      "Root Node:\n",
      "Class B observations: 357\n",
      "Class M observations: 357\n",
      "Total observations: 569\n",
      "Root gini: 0.4675\n",
      "Root entropy: 0.9526\n",
      "\n",
      "\n",
      "First split info successfully stored in file: first_split_info.dat\n"
     ]
    }
   ],
   "source": [
    "# Package import\n",
    "import math\n",
    "\n",
    "if __name__ == \"__main__\":\n",
    "    \n",
    "    # Initialization\n",
    "    data_file_name = 'DecTreeAssign1.dat'\n",
    "    output_file_name = 'first_split_info.dat'\n",
    "    data_mat = [] # data matrix\n",
    "    max_value = [] # a list of maximum value for each feature\n",
    "    min_value = [] # a list of minimum value for each feature\n",
    "    mean = [] # a list of mean value for each feature after scaling\n",
    "    first_item = True\n",
    "    second_item = True\n",
    "    \n",
    "    # Open the file as data_file_ptr\n",
    "    with open(data_file_name, 'r') as data_file_ptr:\n",
    "        # For every line in the file\n",
    "        for in_item in data_file_ptr:\n",
    "            in_item = in_item.strip()\n",
    "            in_item_list = in_item.split(',') # split to list using \",\" as seperator\n",
    "            \n",
    "            # Save the max and min values for each feature\n",
    "            if not first_item:\n",
    "                # Second row will automatically be the max and min for now\n",
    "                if second_item: \n",
    "                    for i in range(1, len(in_item_list)):\n",
    "                        in_item_list[i] = float(in_item_list[i])\n",
    "                        max_value.append(in_item_list[i])\n",
    "                        min_value.append(in_item_list[i])\n",
    "                        second_item = False\n",
    "                # For the other rows, compare and fit in the max and min\n",
    "                else:\n",
    "                    for i in range(1, len(in_item_list)):\n",
    "                        in_item_list[i] = float(in_item_list[i])\n",
    "                        if in_item_list[i] > max_value[i-1]:\n",
    "                            max_value[i-1] = in_item_list[i]\n",
    "                        if in_item_list[i] < min_value[i-1]:\n",
    "                            min_value[i-1] = in_item_list[i]\n",
    "            first_item = False\n",
    "            data_mat.append(in_item_list)\n",
    "        data_file_ptr.close()\n",
    "\n",
    "    # Scale each attributes\n",
    "    for row in range(1, len(data_mat)):\n",
    "        for col in range(1, len(data_mat[0])):\n",
    "            data_mat[row][col] = (data_mat[row][col] - min_value[col-1]) / abs(max_value[col-1] - min_value[col-1])\n",
    "            \n",
    "    # Calculate the mean value for each feature\n",
    "    mean = data_mat[1][1:]\n",
    "    for row in range(2, len(data_mat)): # add all remaining row values to the previous row\n",
    "        mean = [(mean[col-1] + data_mat[row][col]) for col in range(1, len(data_mat[0]))]\n",
    "    mean = [(mean[i] / (len(data_mat) - 1)) for i in range(len(mean))] # divide by number of rows to get the mean\n",
    "    \n",
    "    # Calculate root node information\n",
    "    B_obs = 0\n",
    "    M_obs = 0\n",
    "    # divide every data instance into class \"B\" or class \"M\"\n",
    "    for row in range(1, len(data_mat)):\n",
    "        if data_mat[row][0] == 'B':\n",
    "            B_obs += 1\n",
    "        else:\n",
    "            M_obs += 1\n",
    "    total_obs = B_obs + M_obs\n",
    "    root_gini = 1 - ((B_obs / total_obs) ** 2 + (M_obs / total_obs) ** 2)\n",
    "    root_entropy = - ((B_obs / total_obs) * math.log2((B_obs / total_obs)) \n",
    "                  + (M_obs / total_obs) * math.log2((M_obs / total_obs)))\n",
    "    print('Root Node:')\n",
    "    print('Class B observations: ' + str(B_obs))\n",
    "    print('Class M observations: ' + str(B_obs))\n",
    "    print('Total observations: ' + str(total_obs))\n",
    "    print('Root gini: ' + str(round(root_gini, 4)))\n",
    "    print('Root entropy: ' + str(round(root_entropy, 4)))\n",
    "    print('\\n')\n",
    "    \n",
    "    # Calculate first split information\n",
    "    info_output = []\n",
    "    for feature in range(1, len(data_mat[0])): # iterate through all possible features to find the best split\n",
    "        child1_B = 0 # number of \"B\" class observations in class 1\n",
    "        child1_M = 0 # number of \"M\" class observations in class 1\n",
    "        child1_total = 0 # number of total observations in class 1\n",
    "        child2_B = 0 # number of \"B\" class observations in class 2\n",
    "        child2_M = 0 # number of \"M\" class observations in class 2\n",
    "        child2_total = 0 # number of total observations in class 2\n",
    "        current_split = []\n",
    "        for row in range(1, len(data_mat)):\n",
    "            if data_mat[row][feature] < mean[feature-1]: # mean[feature-1] is the threshold for splitting\n",
    "                if data_mat[row][0] == 'B':\n",
    "                    child1_B += 1\n",
    "                else:\n",
    "                    child1_M += 1\n",
    "            else:\n",
    "                if data_mat[row][0] == 'B':\n",
    "                    child2_B += 1\n",
    "                else:\n",
    "                    child2_M += 1\n",
    "        # Then calculate the related split information\n",
    "        child1_total = child1_B + child1_M\n",
    "        child1_gini = 1 - ((child1_B / child1_total) ** 2 + (child1_M / child1_total) ** 2)\n",
    "        child1_entropy = - ((child1_B / child1_total) * math.log2((child1_B / child1_total)) \n",
    "                  + (child1_M / child1_total) * math.log2(child1_M / child1_total))\n",
    "        child2_total = child2_B + child2_M\n",
    "        child2_gini = 1 - ((child2_B / child2_total) ** 2 + (child2_M / child2_total) ** 2)\n",
    "        child2_entropy = - ((child2_B / child2_total) * math.log2((child2_B / child2_total)) \n",
    "                            + (child2_M / child2_total) * math.log2(child2_M / child2_total))\n",
    "        gini_combined = (child1_total * child1_gini / (child1_total + child2_total)) + (child2_total * child2_gini / (child1_total + child2_total))\n",
    "        entropy_combined = (child1_total * child1_entropy / (child1_total + child2_total)) + (child2_total * child2_entropy / (child1_total + child2_total))\n",
    "        \n",
    "        # Append all split information to current_split and later output to the output file for comparison\n",
    "        current_split.append(data_mat[0][feature])\n",
    "        current_split.append(round(mean[feature-1], 4))\n",
    "        current_split.append(child1_B)\n",
    "        current_split.append(child1_M)\n",
    "        current_split.append(round(child1_gini, 4))\n",
    "        current_split.append(round(child1_entropy, 4))\n",
    "        current_split.append(child2_B)\n",
    "        current_split.append(child2_M)\n",
    "        current_split.append(round(child2_gini, 4))\n",
    "        current_split.append(round(child2_entropy, 4))\n",
    "        current_split.append(round(gini_combined, 4))\n",
    "        current_split.append(round(entropy_combined, 4))\n",
    "        info_output.append(current_split)\n",
    "        \n",
    "    # Output first split information for all feature\n",
    "    with open(output_file_name, 'w') as f: \n",
    "        for row in range(len(info_output)):\n",
    "            l = str(info_output[row][0])\n",
    "            for col in range(1, len(info_output[0])):\n",
    "                l = l + ', ' + str(info_output[row][col])\n",
    "            l = l + '\\n'\n",
    "            f.write(l)\n",
    "        f.close()\n",
    "    print('First split info successfully stored in file: ' + output_file_name)"
   ]
  },
  {
   "cell_type": "markdown",
   "id": "1342f466",
   "metadata": {},
   "source": [
    "Based on the results shown in the DecTreeAssign1_out.csv file, the first split should be on:\n",
    "1. Feature F23 if based on gini index. The gini index of F23 is 0.1476.\n",
    "2. Also feature F23 if based on entropy. The entropy of F23 is 0.4.\n",
    "Therefore, F23 should be chosen to split the root node. The same feature is chosen when using both criteria. \n",
    "The output information can be found in file \"first_split_info.dat\"."
   ]
  },
  {
   "cell_type": "code",
   "execution_count": 4,
   "id": "b676d1b9",
   "metadata": {},
   "outputs": [],
   "source": [
    "# Exploration of other aspects of my program"
   ]
  },
  {
   "cell_type": "code",
   "execution_count": 66,
   "id": "7c7c27f5",
   "metadata": {},
   "outputs": [
    {
     "data": {
      "text/plain": [
       "Text(0.5, 1.0, 'Class distribution in the root node')"
      ]
     },
     "execution_count": 66,
     "metadata": {},
     "output_type": "execute_result"
    },
    {
     "data": {
      "image/png": "[encoded data removed]",
      "text/plain": [
       "<Figure size 432x288 with 1 Axes>"
      ]
     },
     "metadata": {
      "needs_background": "light"
     },
     "output_type": "display_data"
    }
   ],
   "source": [
    "# Class distribution using barplot\n",
    "import matplotlib.pyplot as plt\n",
    "\n",
    "class_col = [data_mat[i][0] for i in range(1, len(data_mat))]\n",
    "class_count = [class_col.count(\"M\"), class_col.count(\"B\")]\n",
    "fig, ax1 = plt.subplots()\n",
    "ax1.bar([\"M\", \"B\"], class_count)\n",
    "ax1.set_xlabel('Class')\n",
    "ax1.set_ylabel('Count')\n",
    "ax1.set_title('Class distribution in the root node')"
   ]
  },
  {
   "cell_type": "code",
   "execution_count": 68,
   "id": "34d30b19",
   "metadata": {},
   "outputs": [
    {
     "data": {
      "text/plain": [
       "Text(0.5, 1.0, 'Class distribution of Child2')"
      ]
     },
     "execution_count": 68,
     "metadata": {},
     "output_type": "execute_result"
    },
    {
     "data": {
      "image/png": "[encoded data removed]",
      "text/plain": [
       "<Figure size 432x288 with 2 Axes>"
      ]
     },
     "metadata": {
      "needs_background": "light"
     },
     "output_type": "display_data"
    }
   ],
   "source": [
    "# Class distribution in child1 and child2 for the best split at F23\n",
    "child1_B = 0\n",
    "child1_M = 0\n",
    "child1_total = 0\n",
    "child2_B = 0\n",
    "child2_M = 0\n",
    "child2_total = 0\n",
    "current_split = []\n",
    "for row in range(1, len(data_mat)):\n",
    "    if data_mat[row][25] < mean[25-1]:\n",
    "        if data_mat[row][0] == 'B':\n",
    "            child1_B += 1\n",
    "        else:\n",
    "            child1_M += 1\n",
    "    else:\n",
    "        if data_mat[row][0] == 'B':\n",
    "            child2_B += 1\n",
    "        else:\n",
    "            child2_M += 1\n",
    "child1_total = child1_B + child1_M\n",
    "child1_gini = 1 - ((child1_B / child1_total) ** 2 + (child1_M / child1_total) ** 2)\n",
    "child1_entropy = - ((child1_B / child1_total) * math.log2((child1_B / child1_total)) \n",
    "                    + (child1_M / child1_total) * math.log2(child1_M / child1_total))\n",
    "child2_total = child2_B + child2_M\n",
    "child2_gini = 1 - ((child2_B / child2_total) ** 2 + (child2_M / child2_total) ** 2)\n",
    "child2_entropy = - ((child2_B / child2_total) * math.log2((child2_B / child2_total)) \n",
    "                    + (child2_M / child2_total) * math.log2(child2_M / child2_total))\n",
    "gini_combined = (child1_total * child1_gini / (child1_total + child2_total)) + (child2_total * child2_gini / (child1_total + child2_total))\n",
    "entropy_combined = (child1_total * child1_entropy / (child1_total + child2_total)) + (child2_total * child2_entropy / (child1_total + child2_total))\n",
    "\n",
    "fig, (ax1, ax2) = plt.subplots(1, 2)\n",
    "ax1.bar([\"child1_M\", \"child1_B\"], [child1_M, child1_B])\n",
    "ax1.set_xlabel('Class')\n",
    "ax1.set_ylabel('Count')\n",
    "ax1.set_title('Class distribution of Child1')\n",
    "ax2.bar([\"child2_M\", \"child2_B\"], [child2_M, child2_B])\n",
    "ax2.set_xlabel('Class')\n",
    "ax2.set_ylabel('Count')\n",
    "ax2.set_title('Class distribution of Child2')"
   ]
  },
  {
   "cell_type": "code",
   "execution_count": 64,
   "id": "9a7fa95b",
   "metadata": {},
   "outputs": [
    {
     "data": {
      "text/plain": [
       "[Text(200.88000000000002, 181.2, 'X[0] <= 2.5\\ngini = 0.595\\nsamples = 891\\nvalue = [216, 184, 491]'),\n",
       " Text(133.92000000000002, 108.72, 'X[0] <= 1.5\\ngini = 0.497\\nsamples = 400\\nvalue = [216, 184, 0]'),\n",
       " Text(66.96000000000001, 36.23999999999998, 'gini = 0.0\\nsamples = 216\\nvalue = [216, 0, 0]'),\n",
       " Text(200.88000000000002, 36.23999999999998, 'gini = 0.0\\nsamples = 184\\nvalue = [0, 184, 0]'),\n",
       " Text(267.84000000000003, 108.72, 'gini = 0.0\\nsamples = 491\\nvalue = [0, 0, 491]')]"
      ]
     },
     "execution_count": 64,
     "metadata": {},
     "output_type": "execute_result"
    },
    {
     "data": {
      "image/png": "[encoded data removed]",
      "text/plain": [
       "<Figure size 432x288 with 1 Axes>"
      ]
     },
     "metadata": {
      "needs_background": "light"
     },
     "output_type": "display_data"
    }
   ],
   "source": []
  },
  {
   "cell_type": "code",
   "execution_count": 62,
   "id": "73763d33",
   "metadata": {},
   "outputs": [
    {
     "data": {
      "text/plain": [
       "[Text(200.88000000000002, 181.2, 'X[0] <= 2.5\\ngini = 0.595\\nsamples = 891\\nvalue = [216, 184, 491]'),\n",
       " Text(133.92000000000002, 108.72, 'X[0] <= 1.5\\ngini = 0.497\\nsamples = 400\\nvalue = [216, 184, 0]'),\n",
       " Text(66.96000000000001, 36.23999999999998, 'gini = 0.0\\nsamples = 216\\nvalue = [216, 0, 0]'),\n",
       " Text(200.88000000000002, 36.23999999999998, 'gini = 0.0\\nsamples = 184\\nvalue = [0, 184, 0]'),\n",
       " Text(267.84000000000003, 108.72, 'gini = 0.0\\nsamples = 491\\nvalue = [0, 0, 491]')]"
      ]
     },
     "execution_count": 62,
     "metadata": {},
     "output_type": "execute_result"
    },
    {
     "data": {
      "image/png": "[encoded data removed]",
      "text/plain": [
       "<Figure size 432x288 with 1 Axes>"
      ]
     },
     "metadata": {
      "needs_background": "light"
     },
     "output_type": "display_data"
    }
   ],
   "source": []
  },
  {
   "cell_type": "code",
   "execution_count": null,
   "id": "96460f86",
   "metadata": {},
   "outputs": [],
   "source": []
  }
 ],
 "metadata": {
  "kernelspec": {
   "display_name": "Python 3",
   "language": "python",
   "name": "python3"
  },
  "language_info": {
   "codemirror_mode": {
    "name": "ipython",
    "version": 3
   },
   "file_extension": ".py",
   "mimetype": "text/x-python",
   "name": "python",
   "nbconvert_exporter": "python",
   "pygments_lexer": "ipython3",
   "version": "3.8.8"
  }
 },
 "nbformat": 4,
 "nbformat_minor": 5
}
